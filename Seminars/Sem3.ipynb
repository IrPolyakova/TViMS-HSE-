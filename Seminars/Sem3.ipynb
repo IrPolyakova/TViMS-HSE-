{
 "cells": [
  {
   "cell_type": "markdown",
   "id": "b1305b43",
   "metadata": {},
   "source": [
    "# СЕМИНАР 3: МЕТОД МАКСИМАЛЬНОГО ПРАВДОПОДОБИЯ\n",
    "\n",
    "На лекции мы рассмотрели теоретические основы метода максимального правдоподобия и даже вывели несколько оценок ММП руками.\n",
    "\n",
    "Попробуем провернуть аналогичные операции в Python\n"
   ]
  },
  {
   "cell_type": "markdown",
   "id": "a5f752d0",
   "metadata": {},
   "source": [
    "## Практический минимум"
   ]
  },
  {
   "cell_type": "code",
   "execution_count": 5,
   "id": "4b386c9b",
   "metadata": {},
   "outputs": [],
   "source": [
    "import numpy as np\n",
    "import pandas as pd\n",
    "\n",
    "from scipy import stats\n",
    "from scipy.optimize import minimize\n",
    "\n",
    "import seaborn as sns\n",
    "import matplotlib.pyplot as plt"
   ]
  },
  {
   "cell_type": "markdown",
   "id": "b994ed63",
   "metadata": {},
   "source": [
    "* Попробуем оценить параметры нормального распределения для следующей выборки:"
   ]
  },
  {
   "cell_type": "code",
   "execution_count": 8,
   "id": "834adbcd",
   "metadata": {},
   "outputs": [],
   "source": [
    "x = [3.2 , 7.9, 5.4, 4.9, 6.2, 4.3]"
   ]
  },
  {
   "cell_type": "markdown",
   "id": "c155f702",
   "metadata": {},
   "source": [
    "1. Напишем ф-ю логарифма макс. правдоподобия, которая принимает на вход массив из двух параметров норм. распр-я и нашу выборку.\n",
    "\n",
    "   Возвращает значение лог-функции правдоподобия"
   ]
  },
  {
   "cell_type": "code",
   "execution_count": null,
   "id": "35f7f276",
   "metadata": {},
   "outputs": [
    {
     "name": "stdout",
     "output_type": "stream",
     "text": [
      "10.240554617493236\n"
     ]
    }
   ],
   "source": [
    "def lnL(theta, x):\n",
    "    mu = theta[0]\n",
    "    s2 = np.exp(theta[1])\n",
    "\n",
    "    x = np.array(x)\n",
    "    n = x.size\n",
    "\n",
    "    l = -0.5*n*np.log(s2) - 0.5/s2*np.sum((x-mu)**2) # лог ф-я правдоподобия для норм. распр-я\n",
    "\n",
    "    return - l # на минус 1 домножаем в силу того, что в scipy есть только функция minimize\n",
    "\n",
    "# Проверка, что работает\n",
    "print(lnL([4, 0.2], x))"
   ]
  },
  {
   "cell_type": "markdown",
   "id": "f6f94414",
   "metadata": {},
   "source": [
    "2. Оценим параметры"
   ]
  },
  {
   "cell_type": "code",
   "execution_count": null,
   "id": "d6ba760d",
   "metadata": {},
   "outputs": [
    {
     "data": {
      "text/plain": [
       "  message: Optimization terminated successfully.\n",
       "  success: True\n",
       "   status: 0\n",
       "      fun: 5.353606615954055\n",
       "        x: [ 5.317e+00  7.845e-01]\n",
       "      nit: 14\n",
       "      jac: [-1.729e-06  2.265e-06]\n",
       " hess_inv: [[ 3.527e-01  1.299e-02]\n",
       "            [ 1.299e-02  3.198e-01]]\n",
       "     nfev: 51\n",
       "     njev: 17"
      ]
     },
     "execution_count": 11,
     "metadata": {},
     "output_type": "execute_result"
    }
   ],
   "source": [
    "theta_int = [0,0] # initial guess\n",
    "res = minimize(lnL, theta_int, args=x)\n",
    "res"
   ]
  },
  {
   "cell_type": "code",
   "execution_count": 12,
   "id": "789e288a",
   "metadata": {},
   "outputs": [
    {
     "data": {
      "text/plain": [
       "(5.3166660045167635, 1.480334583591595)"
      ]
     },
     "execution_count": 12,
     "metadata": {},
     "output_type": "execute_result"
    }
   ],
   "source": [
    "mu, s2 = res.x\n",
    "s2 = np.sqrt(np.exp(s2))\n",
    "mu, s2"
   ]
  },
  {
   "cell_type": "markdown",
   "id": "54199e19",
   "metadata": {},
   "source": [
    "3. Получим тот же результат, используя встроенный метод stats.norm.fit(x)"
   ]
  },
  {
   "cell_type": "code",
   "execution_count": 13,
   "id": "5c7f9d40",
   "metadata": {},
   "outputs": [
    {
     "data": {
      "text/plain": [
       "(5.316666666666666, 1.4803340463857775)"
      ]
     },
     "execution_count": 13,
     "metadata": {},
     "output_type": "execute_result"
    }
   ],
   "source": [
    "mu, s = stats.norm.fit(x)\n",
    "mu, s"
   ]
  },
  {
   "cell_type": "markdown",
   "id": "d82ecb6d",
   "metadata": {},
   "source": [
    "4. Построим 95% доверительный интервал для среднего"
   ]
  },
  {
   "cell_type": "code",
   "execution_count": 14,
   "id": "12883039",
   "metadata": {},
   "outputs": [
    {
     "data": {
      "text/plain": [
       "array([[0.35265742, 0.0129908 ],\n",
       "       [0.0129908 , 0.31978713]])"
      ]
     },
     "execution_count": 14,
     "metadata": {},
     "output_type": "execute_result"
    }
   ],
   "source": [
    "res.hess_inv"
   ]
  },
  {
   "cell_type": "code",
   "execution_count": 15,
   "id": "410b8db2",
   "metadata": {},
   "outputs": [
    {
     "name": "stdout",
     "output_type": "stream",
     "text": [
      "Доверительный интервал для среднего: [4.152742052385886 ; 6.480589956647641]\n"
     ]
    }
   ],
   "source": [
    "alpha = 0.05\n",
    "\n",
    "z = stats.norm().ppf(1-alpha/2)\n",
    "\n",
    "left = res.x[0] - z*np.sqrt(res.hess_inv[0,0])\n",
    "right = res.x[0] + z*np.sqrt(res.hess_inv[0,0])\n",
    "\n",
    "print(f'Доверительный интервал для среднего: [{left} ; {right}]')"
   ]
  },
  {
   "cell_type": "markdown",
   "id": "7e6b2c40",
   "metadata": {},
   "source": [
    "Ниже на примере нормального распределения написан пайплайн запуска теста отношения правдоподобий"
   ]
  },
  {
   "cell_type": "code",
   "execution_count": 7,
   "id": "ad4a2714",
   "metadata": {},
   "outputs": [
    {
     "name": "stdout",
     "output_type": "stream",
     "text": [
      "Оцененное среднее: -0.10384651739409384\n",
      "Статистика теста: 6.4438\n",
      "Критическое значение: 3.8415\n",
      "p-value: 0.0111\n",
      "Отвергаем H0: данные не согласуются с предположением mu = 0.15\n"
     ]
    }
   ],
   "source": [
    "np.random.seed(42)\n",
    "\n",
    "n = 100          # размер выборки\n",
    "mu_true = 0      # истинное среднее\n",
    "sigma = 1        # известное стандартное отклонение\n",
    "alpha = 0.05     # уровень значимости\n",
    "\n",
    "hypo_mu = 0.15   # наше предположение о параметре как исследователей\n",
    "\n",
    "# Генерируем выборку из нормального распределения\n",
    "data = np.random.normal(loc=mu_true, scale=sigma, size=n)\n",
    "\n",
    "# Оценка параметра при H1 (альтернативная гипотеза)\n",
    "# MLE для параметра `mu` при нормальном распределении с известной дисперсией – выборочное среднее\n",
    "mu_hat = np.mean(data)\n",
    "print('Оцененное среднее:', mu_hat)\n",
    "\n",
    "# Вычисление логарифмов правдоподобия\n",
    "logL_R = np.sum(stats.norm.logpdf(data, loc=hypo_mu, scale=sigma))     # при mu = hypo_mu (H0)\n",
    "logL_UR = np.sum(stats.norm.logpdf(data, loc=mu_hat, scale=sigma))  # при mu = mu_hat (H1)\n",
    "\n",
    "# Вычисление статистики теста: -2 * (logL_R - logL_UR)\n",
    "test_statistic = -2 * (logL_R - logL_UR)\n",
    "print(\"Статистика теста: {:.4f}\".format(test_statistic))\n",
    "\n",
    "# Вычисление критического значения для уровня значимости alpha = 0.05\n",
    "critical_value = stats.chi2.ppf(1 - alpha, df=1)\n",
    "print(\"Критическое значение: {:.4f}\".format(critical_value))\n",
    "\n",
    "# Вычисление p-value c 1 степенью свободы, ибо мы ограничили один параметр\n",
    "p_value = 1 - stats.chi2.cdf(test_statistic, df=1)\n",
    "print(\"p-value: {:.4f}\".format(p_value))\n",
    "\n",
    "# Принятие решения\n",
    "if p_value < alpha:\n",
    "    print(f\"Отвергаем H0: данные не согласуются с предположением mu = {hypo_mu}\")\n",
    "else:\n",
    "    print(f\"Нет оснований отвергать H0: данные согласуются с предположением mu = {hypo_mu}\")"
   ]
  },
  {
   "cell_type": "markdown",
   "id": "58ba4c31",
   "metadata": {},
   "source": [
    "5. Попробуйте провести тест отношения правдоподобий в предыдущей задаче с гипотезой о том, что среднее равняется единице"
   ]
  },
  {
   "cell_type": "code",
   "execution_count": null,
   "id": "7a16727e",
   "metadata": {},
   "outputs": [],
   "source": [
    "### YOUR CODE HERE"
   ]
  },
  {
   "cell_type": "markdown",
   "id": "77a72e4d",
   "metadata": {},
   "source": [
    "6. А теперь тест отношения правдоподобий с гипотезой о том, что среднее равно единице, а дисперсия двойке"
   ]
  },
  {
   "cell_type": "code",
   "execution_count": null,
   "id": "38db8517",
   "metadata": {},
   "outputs": [],
   "source": [
    "### YOUR CODE HERE"
   ]
  },
  {
   "cell_type": "markdown",
   "id": "b3c673a5",
   "metadata": {},
   "source": [
    "## Практика\n",
    "\n",
    "* На практике для давно известных распределений никто не оценивает параметры ММП в каждой задаче, а просто используют уже известные оценки, выведенные в общем виде.\n",
    "\n",
    "* Например, для аналитики спорта очень часто используют Пуассоновское распределение.\n",
    "\n",
    "* Им моделируют, например, общее кол-во голов в матче, голы домашней команды, команды соперника, кол-во успешных действий конкретного игрока, кол-во красных и желтых карточек... В общем любой \"подсчет\" в единицу времени\n",
    "\n",
    "* В этой практике попробуем немного погрузиться в экономику спорта"
   ]
  },
  {
   "cell_type": "markdown",
   "id": "061e50be",
   "metadata": {},
   "source": [
    "В данной задачи будем использовать данные с <https://footystats.org/> о матчах в самых известных футбольных премьер лигах за 5 последних сезонов.\n",
    "\n",
    "Данные можно загрузить по ссылке: https://drive.google.com/drive/folders/16WZMzHd74W-O_NdUgsEPjJ9rTXywsN1t?usp=drive_link\n",
    "\n",
    "Описание данных можно найти здесь: https://footystats.org/api/documentations/match-schedule-and-stats"
   ]
  },
  {
   "cell_type": "markdown",
   "id": "73796e77",
   "metadata": {},
   "source": [
    "### TASK 1 (OPTIONAL) \n",
    "\n",
    "Если есть желание попрактиковаться, попробуйте вывести оценки ММП для распределение Пуассона в общем виде"
   ]
  },
  {
   "cell_type": "code",
   "execution_count": null,
   "id": "8cbe03c5",
   "metadata": {},
   "outputs": [],
   "source": [
    "### YOUR CODE OR LATEX HERE"
   ]
  },
  {
   "cell_type": "markdown",
   "id": "e3fd0894",
   "metadata": {},
   "source": [
    "### TASK 2: Спорт как Пуассоновская модель\n",
    "\n",
    "* Объедините все голы, забитые во всех матчах: и домашние, и гостевые, либо возьмите готовый столбец из данных. \n",
    "\n",
    "* Предположив, что общее количество голов в лиге подчиняется распределению Пуассона, найдите оценку максимального правдоподобия для параметра λ (среднее количество голов за матч в лиге)\n",
    "\n",
    "* Насколько она устойчива к изменению выборки (например, если взять только матчи одной команды или одного сезона)?\n",
    "\n",
    "* Графические иллюстрации приветствуются, но не обязательны :)"
   ]
  },
  {
   "cell_type": "code",
   "execution_count": null,
   "id": "b59697d1",
   "metadata": {},
   "outputs": [],
   "source": [
    "### YOUR CODE HERE"
   ]
  },
  {
   "cell_type": "markdown",
   "id": "613c025a",
   "metadata": {},
   "source": [
    "### TASK 3: Стиль игры\n",
    "\n",
    "1. Выберите одну конкретную команду. Оцените два параметра:\n",
    "\n",
    "* λ_attack – среднее количество голов, забиваемое этой командой за матч (используйте данные по всем матчам, где она играла).\n",
    "\n",
    "* λ_defence – среднее количество голов, пропускаемых этой командой за матч.\n",
    "\n",
    "2. Сравните λ_attack и λ_defence для этой команды. Что это говорит о ее стиле игры? Является ли она атакующей, оборонительной или сбалансированной?"
   ]
  },
  {
   "cell_type": "code",
   "execution_count": null,
   "id": "e816ecee",
   "metadata": {},
   "outputs": [],
   "source": [
    "### YOUR CODE HERE"
   ]
  },
  {
   "cell_type": "markdown",
   "id": "733ba770",
   "metadata": {},
   "source": [
    "### TASK 4: Существует ли эффект домашнего поля?\n",
    "\n",
    "* Формулировка гипотезы: Команды в среднем забивают больше голов, играя дома, чем в гостях.\n",
    "\n",
    "\n",
    "1. Для выбранной команды (или для всех команд в совокупности) оцените λ_home (средние голы дома) и λ_away (средние голы в гостях).\n",
    "\n",
    "2. Постройте 95% доверительные интервалы для λ_home и λ_away (можно использовать свойство асимптотической нормальности оценки ММП). Перекрываются ли они?\n",
    "\n",
    "3. Проверьте гипотезу H₀: λ_home = λ_away против H₁: λ_home > λ_away (Hint: можно использовать тест отношения правдоподобия)."
   ]
  },
  {
   "cell_type": "code",
   "execution_count": 17,
   "id": "6c5c1660",
   "metadata": {},
   "outputs": [],
   "source": [
    "### YOUR CODE HERE"
   ]
  }
 ],
 "metadata": {
  "kernelspec": {
   "display_name": "Python 3",
   "language": "python",
   "name": "python3"
  },
  "language_info": {
   "codemirror_mode": {
    "name": "ipython",
    "version": 3
   },
   "file_extension": ".py",
   "mimetype": "text/x-python",
   "name": "python",
   "nbconvert_exporter": "python",
   "pygments_lexer": "ipython3",
   "version": "3.10.11"
  }
 },
 "nbformat": 4,
 "nbformat_minor": 5
}
